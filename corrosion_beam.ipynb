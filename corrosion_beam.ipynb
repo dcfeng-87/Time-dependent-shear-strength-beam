{
 "cells": [
  {
   "cell_type": "code",
   "execution_count": 2,
   "metadata": {},
   "outputs": [],
   "source": [
    "\n",
    "# core code for predicting the shear strength using AdaBoost\n",
    "# v 0.1\n",
    "# 2019-7-14\n",
    "\n",
    "# define some necessary packages\n",
    "import os\n",
    "import numpy as np\n",
    "import scipy as sp\n",
    "import pandas as pd\n",
    "import matplotlib.pyplot as plt\n",
    "from openpyxl import load_workbook\n",
    "from sklearn.model_selection import cross_val_predict\n",
    "from sklearn import tree\n",
    "from sklearn.tree import DecisionTreeRegressor\n",
    "from sklearn.ensemble import RandomForestRegressor\n",
    "from sklearn.ensemble import GradientBoostingRegressor\n",
    "from sklearn.ensemble import AdaBoostRegressor\n",
    "from sklearn.preprocessing import StandardScaler\n",
    "from sklearn.metrics import mean_squared_error\n",
    "from sklearn.metrics import r2_score\n",
    "from sklearn.metrics import mean_squared_error\n",
    "from sklearn.metrics import mean_absolute_error \n",
    "from sklearn.model_selection import train_test_split\n",
    "from sklearn.model_selection import cross_val_score\n",
    "from sklearn.model_selection import GridSearchCV\n",
    "import matplotlib\n",
    "matplotlib.rcParams['mathtext.fontset']='stix'"
   ]
  },
  {
   "cell_type": "code",
   "execution_count": 4,
   "metadata": {
    "scrolled": true
   },
   "outputs": [
    {
     "data": {
      "text/html": [
       "<div>\n",
       "<style scoped>\n",
       "    .dataframe tbody tr th:only-of-type {\n",
       "        vertical-align: middle;\n",
       "    }\n",
       "\n",
       "    .dataframe tbody tr th {\n",
       "        vertical-align: top;\n",
       "    }\n",
       "\n",
       "    .dataframe thead th {\n",
       "        text-align: right;\n",
       "    }\n",
       "</style>\n",
       "<table border=\"1\" class=\"dataframe\">\n",
       "  <thead>\n",
       "    <tr style=\"text-align: right;\">\n",
       "      <th></th>\n",
       "      <th>fc</th>\n",
       "      <th>b</th>\n",
       "      <th>h</th>\n",
       "      <th>rho_l</th>\n",
       "      <th>rho_v</th>\n",
       "      <th>fy</th>\n",
       "      <th>fyv</th>\n",
       "      <th>s</th>\n",
       "      <th>lambda_s</th>\n",
       "      <th>eta_l</th>\n",
       "      <th>eta_w</th>\n",
       "      <th>h0</th>\n",
       "      <th>y</th>\n",
       "    </tr>\n",
       "  </thead>\n",
       "  <tbody>\n",
       "    <tr>\n",
       "      <th>0</th>\n",
       "      <td>33.40</td>\n",
       "      <td>254</td>\n",
       "      <td>610</td>\n",
       "      <td>1.90</td>\n",
       "      <td>0.39</td>\n",
       "      <td>441</td>\n",
       "      <td>496</td>\n",
       "      <td>254</td>\n",
       "      <td>2.04</td>\n",
       "      <td>0.00</td>\n",
       "      <td>13.20</td>\n",
       "      <td>521.0</td>\n",
       "      <td>507.0</td>\n",
       "    </tr>\n",
       "    <tr>\n",
       "      <th>1</th>\n",
       "      <td>20.93</td>\n",
       "      <td>120</td>\n",
       "      <td>230</td>\n",
       "      <td>2.62</td>\n",
       "      <td>0.56</td>\n",
       "      <td>435</td>\n",
       "      <td>464</td>\n",
       "      <td>150</td>\n",
       "      <td>1.50</td>\n",
       "      <td>0.00</td>\n",
       "      <td>11.73</td>\n",
       "      <td>184.0</td>\n",
       "      <td>129.0</td>\n",
       "    </tr>\n",
       "    <tr>\n",
       "      <th>2</th>\n",
       "      <td>20.00</td>\n",
       "      <td>150</td>\n",
       "      <td>180</td>\n",
       "      <td>2.26</td>\n",
       "      <td>0.19</td>\n",
       "      <td>369</td>\n",
       "      <td>332</td>\n",
       "      <td>200</td>\n",
       "      <td>2.20</td>\n",
       "      <td>8.60</td>\n",
       "      <td>5.10</td>\n",
       "      <td>130.0</td>\n",
       "      <td>68.0</td>\n",
       "    </tr>\n",
       "    <tr>\n",
       "      <th>3</th>\n",
       "      <td>25.00</td>\n",
       "      <td>150</td>\n",
       "      <td>200</td>\n",
       "      <td>2.30</td>\n",
       "      <td>0.25</td>\n",
       "      <td>210</td>\n",
       "      <td>275</td>\n",
       "      <td>150</td>\n",
       "      <td>2.20</td>\n",
       "      <td>3.14</td>\n",
       "      <td>2.75</td>\n",
       "      <td>166.0</td>\n",
       "      <td>79.0</td>\n",
       "    </tr>\n",
       "    <tr>\n",
       "      <th>4</th>\n",
       "      <td>33.10</td>\n",
       "      <td>140</td>\n",
       "      <td>220</td>\n",
       "      <td>1.48</td>\n",
       "      <td>0.90</td>\n",
       "      <td>580</td>\n",
       "      <td>560</td>\n",
       "      <td>80</td>\n",
       "      <td>1.76</td>\n",
       "      <td>0.00</td>\n",
       "      <td>24.31</td>\n",
       "      <td>170.0</td>\n",
       "      <td>90.0</td>\n",
       "    </tr>\n",
       "  </tbody>\n",
       "</table>\n",
       "</div>"
      ],
      "text/plain": [
       "      fc    b    h  rho_l  rho_v   fy  fyv    s  lambda_s  eta_l  eta_w  \\\n",
       "0  33.40  254  610   1.90   0.39  441  496  254      2.04   0.00  13.20   \n",
       "1  20.93  120  230   2.62   0.56  435  464  150      1.50   0.00  11.73   \n",
       "2  20.00  150  180   2.26   0.19  369  332  200      2.20   8.60   5.10   \n",
       "3  25.00  150  200   2.30   0.25  210  275  150      2.20   3.14   2.75   \n",
       "4  33.10  140  220   1.48   0.90  580  560   80      1.76   0.00  24.31   \n",
       "\n",
       "      h0      y  \n",
       "0  521.0  507.0  \n",
       "1  184.0  129.0  \n",
       "2  130.0   68.0  \n",
       "3  166.0   79.0  \n",
       "4  170.0   90.0  "
      ]
     },
     "execution_count": 4,
     "metadata": {},
     "output_type": "execute_result"
    }
   ],
   "source": [
    "# load the full data set\n",
    "dataset = pd.read_excel('C:/Users/admin/Desktop/20201229/corr_beam.xlsx', sheet_name='corr_beam')\n",
    "dataset.head()\n"
   ]
  },
  {
   "cell_type": "code",
   "execution_count": 8,
   "metadata": {},
   "outputs": [],
   "source": [
    "# define Input variables X and output variable y\n",
    "# 13 variables as followed: f_c;b;h;rho_l;rho_v;f_y;f_yv;s;lambda;eta_l;eta_w;h0;A_v\t\n",
    "\n",
    "fc = dataset.loc[:, 'fc']\n",
    "# fc.head()\n",
    "b = dataset.loc[:, 'b']\n",
    "# b.head()\n",
    "h = dataset.loc[:, 'h']\n",
    "# h\n",
    "rho_l = dataset.loc[:, 'rho_l']\n",
    "# rho_l\n",
    "rho_v = dataset.loc[:, 'rho_v']\n",
    "# rho_v\n",
    "fy = dataset.loc[:, 'fy']\n",
    "# fy\n",
    "fyv = dataset.loc[:, 'fyv']\n",
    "# fyv\n",
    "s = dataset.loc[:, 's']\n",
    "# s\n",
    "lambda_s = dataset.loc[:, 'lambda_s']\n",
    "# lambda_s\n",
    "eta_l = dataset.loc[:, 'eta_l']\n",
    "# eta_l\n",
    "eta_w = dataset.loc[:, 'eta_w']\n",
    "# eta_w\n",
    "h0 = dataset.loc[:, 'h0']\n",
    "# h0"
   ]
  },
  {
   "cell_type": "code",
   "execution_count": 10,
   "metadata": {},
   "outputs": [],
   "source": [
    "X = np.zeros(shape=(158,6))\n",
    "X[:, 0] = lambda_s\n",
    "X[:, 1] = h0/b\n",
    "X[:, 2] = rho_l * fy / fc\n",
    "X[:, 3] = rho_v * fyv / fc\n",
    "X[:, 4] = eta_l\n",
    "X[:, 5] = eta_w\n",
    "\n",
    "y = dataset.loc [0:158, 'y']   # shear strength"
   ]
  },
  {
   "cell_type": "code",
   "execution_count": 11,
   "metadata": {},
   "outputs": [],
   "source": [
    "# normalize the data sets\n",
    "scaler = StandardScaler()\n",
    "scaler.fit(X)\n",
    "X = scaler.transform(X)\n",
    "\n",
    "# split the training-testing set into 10 folds\n",
    "X_train, X_test, y_train, y_test = train_test_split(X, y, test_size=0.30, random_state=5)"
   ]
  },
  {
   "cell_type": "code",
   "execution_count": 20,
   "metadata": {},
   "outputs": [
    {
     "name": "stdout",
     "output_type": "stream",
     "text": [
      "10-fold R^2: 0.7119441326609117\n",
      "10-fold RMSE: 22.556864197388556\n",
      "10-fold MAE: 15.53659228637738\n"
     ]
    }
   ],
   "source": [
    "# DT\n",
    "# regr_1 = DecisionTreeRegressor(max_depth=80,max_leaf_nodes=100,min_samples_leaf=1,min_samples_split=2,random_state=2)\n",
    "\n",
    "# RF\n",
    "# regr_2 = RandomForestRegressor(n_estimators=200, max_depth=80,max_leaf_nodes=300,min_samples_leaf=1,min_samples_split=2,random_state=0)\n",
    "\n",
    "# GBRT\n",
    "regr_1 = GradientBoostingRegressor(n_estimators=200, learning_rate=0.05,max_depth=2,max_leaf_nodes=5,min_samples_leaf=1,min_samples_split=2, random_state=0, loss='ls')\n",
    "\n",
    "# AdaBoost\n",
    "# regr_4 = AdaBoostRegressor(tree.DecisionTreeRegressor(max_depth=80,max_leaf_nodes=300,min_samples_leaf=1,min_samples_split=2,random_state=0),\tn_estimators=200, learning_rate=0.8)\n",
    "\n",
    "\n",
    "scores = cross_val_score (regr_1, X_train, y_train, cv=10, scoring='r2', n_jobs = -1)\n",
    "print('10-fold R^2:', scores.mean())\n",
    "\n",
    "scores = cross_val_score (regr_1, X_train, y_train, cv=10, scoring='neg_mean_squared_error', n_jobs = -1)\n",
    "print('10-fold RMSE:', np.mean(np.sqrt( -scores)))\n",
    "\n",
    "scores = cross_val_score (regr_1, X_train, y_train, cv=10, scoring='neg_mean_absolute_error', n_jobs = -1)\n",
    "print('10-fold MAE:', -scores.mean())"
   ]
  },
  {
   "cell_type": "code",
   "execution_count": 21,
   "metadata": {},
   "outputs": [
    {
     "name": "stdout",
     "output_type": "stream",
     "text": [
      "GBRT Training RMSE: 11.08290480400761 MAE: 8.152859603729743 R2: 0.9864231483338094\n",
      "GBRT Testing RMSE: 19.191396252694407 MAE: 12.840083358363614 R2: 0.9553986369604238\n"
     ]
    }
   ],
   "source": [
    "# training the learner\n",
    "regr_1.fit(X_train, y_train)\n",
    "\n",
    "# predict the results\n",
    "Z1 = regr_1.predict(X_train)\n",
    "Z2 = regr_1.predict(X_test)\n",
    "\n",
    "\n",
    "print(\"GBRT Training RMSE:\", np.sqrt(mean_squared_error(y_train, Z1)), \"MAE:\", mean_absolute_error(y_train, Z1), \"R2:\", r2_score(y_train, Z1))\n",
    "print(\"GBRT Testing RMSE:\", np.sqrt(mean_squared_error(y_test, Z2)), \"MAE:\", mean_absolute_error(y_test, Z2), \"R2:\", r2_score(y_test, Z2))"
   ]
  },
  {
   "cell_type": "code",
   "execution_count": 22,
   "metadata": {},
   "outputs": [],
   "source": [
    "##X_train = scaler.inverse_transform(X_train)\n",
    "##print(X_train[:, 5])\n",
    "##print(y_train)\n",
    "##print(Z1)\n",
    "##X_test = scaler.inverse_transform(X_test)\n",
    "##print(X_test[:, 5])\n",
    "##print(y_test)\n",
    "##print(Z2)\n",
    "\n"
   ]
  },
  {
   "cell_type": "code",
   "execution_count": 23,
   "metadata": {},
   "outputs": [],
   "source": [
    "\n",
    "##xx_test = [[1,1.3917,28.6691,3.1587,0,0],\n",
    "##            [1,1.3917,28.6691,3.1587,0,0],\n",
    "##            [1,1.3917,28.6691,3.1587,0,0],\n",
    "##            [1,1.3917,28.6691,3.1587,0,0],\n",
    "##            [1,1.3917,28.6691,3.1587,0,8.3746],\n",
    "##            [1,1.3917,28.6691,3.1587,0,21.5831],\n",
    "##             [1,1.3917,28.6691,3.1587,0,31.1602],\n",
    "##            [1,1.3917,28.6691,3.1587,0,39.0631],\n",
    "##            [1,1.3917,28.6691,3.1587,0,45.8741],\n",
    "##             [1,1.3917,28.6691,3.1587,0,51.8749],\n",
    "##            [1,1.3917,28.6691,3.1587,0,57.2313],\n",
    "##            [1,1.3917,28.6691,3.1587,0,62.0518]]\n",
    "\n",
    "##xx_test = [[2,1.3250,20.9625,1.6103,0,0],\n",
    "##            [2,1.3250,20.9625,1.6103,0,0],\n",
    "##            [2,1.3250,20.9625,1.6103,0,10.2427],\n",
    "##             [2,1.3250,20.9625,1.6103,0,30.1401],\n",
    "##            [2,1.3250,20.9625,1.6103,0,43.6124],\n",
    "##            [2,1.3250,20.9625,1.6103,0,54.2122],\n",
    "##             [2,1.3250,20.9625,1.6103,0,62.9282],\n",
    "##            [2,1.3250,20.9625,1.6103,0,70.2340],\n",
    "##            [2,1.3250,20.9625,1.6103,0,76.4075],\n",
    "##            [2,1.3250,20.9625,1.6103,0,81.6314],\n",
    "##            [2,1.3250,20.9625,1.6103,0,86.0349],\n",
    "##            [2,1.3250,20.9625,1.6103,0,89.7143]]"
   ]
  },
  {
   "cell_type": "code",
   "execution_count": 24,
   "metadata": {},
   "outputs": [
    {
     "name": "stdout",
     "output_type": "stream",
     "text": [
      "[ 83.86721098 101.2626052  138.83462861 458.39334808 458.39334808\n",
      " 458.39334808 458.39334808 458.39334808 458.39334808 458.39334808]\n"
     ]
    }
   ],
   "source": [
    "xx_test = [[1.0000,0.8333,28.6691,3.1587,0,32.0500],\n",
    "           [1.0000,1.2500,28.6691,3.1587,0,32.0500],\n",
    "           [1.0000,1.6667,28.6691,3.1587,0,32.0500],\n",
    "           [1.0000,2.0833,28.6691,3.1587,0,32.0500],\n",
    "           [1.0000,2.5000,28.6691,3.1587,0,32.0500],\n",
    "           [1.0000,2.9167,28.6691,3.1587,0,32.0500],\n",
    "           [1.0000,3.3333,28.6691,3.1587,0,32.0500],\n",
    "           [1.0000,3.7500,28.6691,3.1587,0,32.0500],\n",
    "           [1.0000,4.1667,28.6691,3.1587,0,32.0500],\n",
    "           [1.0000,4.5833,28.6691,3.1587,0,32.0500]]\n",
    "\n",
    "\n",
    "xx_test = scaler.transform(xx_test)\n",
    "zz = regr_1.predict(xx_test)\n",
    "print(zz)"
   ]
  },
  {
   "cell_type": "code",
   "execution_count": 25,
   "metadata": {},
   "outputs": [
    {
     "name": "stdout",
     "output_type": "stream",
     "text": [
      "(158, 6)\n",
      "GBRT RMSE: 14.050147709606279 R2: 0.9775862277843718 MAE: 9.576826313998263\n",
      "1.0277409448058386 0.14578652058475564\n"
     ]
    }
   ],
   "source": [
    "# predicted = cross_val_predict (regr_1, X_train, y_train, cv=10)\n",
    "predicted = Z1\n",
    "# AdaBoost results\n",
    "X_inp1 = np.concatenate((X_train, X_test))\n",
    "print(X_inp1.shape)\n",
    "X_inp = scaler.inverse_transform(X_inp1)\n",
    "\n",
    "y_ture = np.concatenate((y_train, y_test))\n",
    "y_pre = np.concatenate((predicted, Z2))\n",
    "print(\"GBRT RMSE:\", np.sqrt(mean_squared_error(y_ture, y_pre)), \"R2:\", r2_score(y_ture, y_pre), \"MAE:\", mean_absolute_error(y_ture, y_pre))\n",
    "\n",
    "ratio = y_pre/y_ture\n",
    "print(np.mean(ratio), np.std(ratio, ddof=1))\n"
   ]
  },
  {
   "cell_type": "code",
   "execution_count": 26,
   "metadata": {},
   "outputs": [],
   "source": [
    "writer = pd.ExcelWriter('ratio.xlsx',engin='openpyxl')\n",
    "#book = load_workbook(writer.path)\n",
    "#writer.book = book\n",
    "df1 = pd.DataFrame({'eta_w':X_inp[:,5]/100})\n",
    "df2 = pd.DataFrame({'y_ture':y_ture})\n",
    "df3 = pd.DataFrame({'y_pre':y_pre})\n",
    "df1.to_excel(writer,startcol=0,index=False)\n",
    "df2.to_excel(writer,startcol=1,index=False)\n",
    "df3.to_excel(writer,startcol=2,index=False)\n",
    "writer.save()\n",
    "writer.close()"
   ]
  },
  {
   "cell_type": "code",
   "execution_count": 27,
   "metadata": {},
   "outputs": [],
   "source": [
    "# ##xx_test = np.array(xx_test).reshape(1, -1)\n",
    "# xx_test = scaler.transform(xx_test)\n",
    "# zz = regr_1.predict(xx_test)\n",
    "# print(zz)\n",
    "\n",
    "##print(\"Training R of this fold :\", np.sqrt(r2_score(y_train, Z1)))\n",
    "##print(\"Testing R of this fold:\", np.sqrt(r2_score(y_test, Z2)))\n",
    "##\n",
    "##print(\"Training RMSE of this fold :\", np.sqrt(mean_squared_error(y_train, Z1)))\n",
    "##print(\"Testing RMSE of this fold:\", np.sqrt(mean_squared_error(y_test, Z2)))\n",
    "##\n",
    "##print(\"Training R of this fold :\", np.sqrt(r2_score(y_train, Z1)))\n",
    "##print(\"Testing R of this fold:\", np.sqrt(r2_score(y_test, Z2)))"
   ]
  },
  {
   "cell_type": "code",
   "execution_count": 31,
   "metadata": {},
   "outputs": [
    {
     "data": {
      "image/png": "[encoded data removed]",
      "text/plain": [
       "<Figure size 432x288 with 1 Axes>"
      ]
     },
     "metadata": {
      "needs_background": "light"
     },
     "output_type": "display_data"
    }
   ],
   "source": [
    "# plot the results by AdaBoost\n",
    "xx = np.linspace(0, 600, 100)\n",
    "yy = xx\n",
    "\n",
    "plt.figure()\n",
    "plt.plot(xx, yy, c='k', linewidth=2)\n",
    "plt.scatter(y_train, Z1, marker='s', s=80, c='r', edgecolor='grey', linewidth=0.5)\n",
    "# plt.scatter(y_test, Z2, marker='s')\n",
    "\n",
    "plt.grid()\n",
    "# plt.legend(['y=x','Training set','Testing set'], loc = 'upper left', fontproperties(family='serif') )\n",
    "\n",
    "plt.tick_params (axis='both',which='major',labelsize=14)\n",
    "\n",
    "font1 = {'family' : 'serif',\n",
    "'weight' : 'normal',\n",
    "'size'   : 18,\n",
    "}\n",
    "plt.axis('tight')\n",
    "plt.xlabel('Tested shear strength (kN)', font1)\n",
    "plt.ylabel('Predicted shear strength (kN)', font1)\n",
    "plt.xlim([0, 600])\n",
    "plt.ylim([0, 600])\n",
    "\n",
    "plt.tight_layout()\n",
    "plt.savefig('Fig4a.eps')\n"
   ]
  }
 ],
 "metadata": {
  "kernelspec": {
   "display_name": "Python 3",
   "language": "python",
   "name": "python3"
  },
  "language_info": {
   "codemirror_mode": {
    "name": "ipython",
    "version": 3
   },
   "file_extension": ".py",
   "mimetype": "text/x-python",
   "name": "python",
   "nbconvert_exporter": "python",
   "pygments_lexer": "ipython3",
   "version": "3.8.5"
  }
 },
 "nbformat": 4,
 "nbformat_minor": 4
}
