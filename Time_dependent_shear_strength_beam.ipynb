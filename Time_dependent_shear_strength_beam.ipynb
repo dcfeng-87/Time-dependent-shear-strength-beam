{
 "cells": [
  {
   "cell_type": "markdown",
   "metadata": {},
   "source": [
    "# Time-dependent shear strength model for corroded RC beams using machine learning\n",
    "\n",
    "created by De-Cheng Feng and Bo Fu"
   ]
  },
  {
   "cell_type": "code",
   "execution_count": 433,
   "metadata": {},
   "outputs": [],
   "source": [
    "# define some necessary packages\n",
    "import os\n",
    "import numpy as np\n",
    "import scipy as sp\n",
    "import pandas as pd"
   ]
  },
  {
   "cell_type": "code",
   "execution_count": 434,
   "metadata": {},
   "outputs": [
    {
     "data": {
      "text/html": [
       "<div>\n",
       "<style scoped>\n",
       "    .dataframe tbody tr th:only-of-type {\n",
       "        vertical-align: middle;\n",
       "    }\n",
       "\n",
       "    .dataframe tbody tr th {\n",
       "        vertical-align: top;\n",
       "    }\n",
       "\n",
       "    .dataframe thead th {\n",
       "        text-align: right;\n",
       "    }\n",
       "</style>\n",
       "<table border=\"1\" class=\"dataframe\">\n",
       "  <thead>\n",
       "    <tr style=\"text-align: right;\">\n",
       "      <th></th>\n",
       "      <th>fc</th>\n",
       "      <th>b</th>\n",
       "      <th>h</th>\n",
       "      <th>rho_l</th>\n",
       "      <th>rho_v</th>\n",
       "      <th>fy</th>\n",
       "      <th>fyv</th>\n",
       "      <th>s</th>\n",
       "      <th>lambda_s</th>\n",
       "      <th>eta_l</th>\n",
       "      <th>eta_w</th>\n",
       "      <th>h0</th>\n",
       "      <th>y</th>\n",
       "    </tr>\n",
       "  </thead>\n",
       "  <tbody>\n",
       "    <tr>\n",
       "      <th>0</th>\n",
       "      <td>33.40</td>\n",
       "      <td>254</td>\n",
       "      <td>610</td>\n",
       "      <td>1.90</td>\n",
       "      <td>0.39</td>\n",
       "      <td>441</td>\n",
       "      <td>496</td>\n",
       "      <td>254</td>\n",
       "      <td>2.04</td>\n",
       "      <td>0.00</td>\n",
       "      <td>13.20</td>\n",
       "      <td>521.0</td>\n",
       "      <td>507.0</td>\n",
       "    </tr>\n",
       "    <tr>\n",
       "      <th>1</th>\n",
       "      <td>20.93</td>\n",
       "      <td>120</td>\n",
       "      <td>230</td>\n",
       "      <td>2.62</td>\n",
       "      <td>0.56</td>\n",
       "      <td>435</td>\n",
       "      <td>464</td>\n",
       "      <td>150</td>\n",
       "      <td>1.50</td>\n",
       "      <td>0.00</td>\n",
       "      <td>11.73</td>\n",
       "      <td>184.0</td>\n",
       "      <td>129.0</td>\n",
       "    </tr>\n",
       "    <tr>\n",
       "      <th>2</th>\n",
       "      <td>20.00</td>\n",
       "      <td>150</td>\n",
       "      <td>180</td>\n",
       "      <td>2.26</td>\n",
       "      <td>0.19</td>\n",
       "      <td>369</td>\n",
       "      <td>332</td>\n",
       "      <td>200</td>\n",
       "      <td>2.20</td>\n",
       "      <td>8.60</td>\n",
       "      <td>5.10</td>\n",
       "      <td>130.0</td>\n",
       "      <td>68.0</td>\n",
       "    </tr>\n",
       "    <tr>\n",
       "      <th>3</th>\n",
       "      <td>25.00</td>\n",
       "      <td>150</td>\n",
       "      <td>200</td>\n",
       "      <td>2.30</td>\n",
       "      <td>0.25</td>\n",
       "      <td>210</td>\n",
       "      <td>275</td>\n",
       "      <td>150</td>\n",
       "      <td>2.20</td>\n",
       "      <td>3.14</td>\n",
       "      <td>2.75</td>\n",
       "      <td>166.0</td>\n",
       "      <td>79.0</td>\n",
       "    </tr>\n",
       "    <tr>\n",
       "      <th>4</th>\n",
       "      <td>33.10</td>\n",
       "      <td>140</td>\n",
       "      <td>220</td>\n",
       "      <td>1.48</td>\n",
       "      <td>0.90</td>\n",
       "      <td>580</td>\n",
       "      <td>560</td>\n",
       "      <td>80</td>\n",
       "      <td>1.76</td>\n",
       "      <td>0.00</td>\n",
       "      <td>24.31</td>\n",
       "      <td>170.0</td>\n",
       "      <td>90.0</td>\n",
       "    </tr>\n",
       "  </tbody>\n",
       "</table>\n",
       "</div>"
      ],
      "text/plain": [
       "      fc    b    h  rho_l  rho_v   fy  fyv    s  lambda_s  eta_l  eta_w  \\\n",
       "0  33.40  254  610   1.90   0.39  441  496  254      2.04   0.00  13.20   \n",
       "1  20.93  120  230   2.62   0.56  435  464  150      1.50   0.00  11.73   \n",
       "2  20.00  150  180   2.26   0.19  369  332  200      2.20   8.60   5.10   \n",
       "3  25.00  150  200   2.30   0.25  210  275  150      2.20   3.14   2.75   \n",
       "4  33.10  140  220   1.48   0.90  580  560   80      1.76   0.00  24.31   \n",
       "\n",
       "      h0      y  \n",
       "0  521.0  507.0  \n",
       "1  184.0  129.0  \n",
       "2  130.0   68.0  \n",
       "3  166.0   79.0  \n",
       "4  170.0   90.0  "
      ]
     },
     "execution_count": 434,
     "metadata": {},
     "output_type": "execute_result"
    }
   ],
   "source": [
    "# impoting the strength database\n",
    "from openpyxl import load_workbook\n",
    "\n",
    "dataset = pd.read_excel('corr_beam.xlsx', sheet_name='corr_beam')\n",
    "dataset.head()"
   ]
  },
  {
   "cell_type": "code",
   "execution_count": 435,
   "metadata": {},
   "outputs": [
    {
     "name": "stdout",
     "output_type": "stream",
     "text": [
      "(158, 13)\n"
     ]
    }
   ],
   "source": [
    "# checking the dimension of the database\n",
    "print(dataset.shape)"
   ]
  },
  {
   "cell_type": "code",
   "execution_count": 436,
   "metadata": {},
   "outputs": [],
   "source": [
    "# reading the original input variables from the database\n",
    "fc = dataset.loc[:, 'fc']\n",
    "b = dataset.loc[:, 'b']\n",
    "h = dataset.loc[:, 'h']\n",
    "rho_l = dataset.loc[:, 'rho_l']\n",
    "rho_v = dataset.loc[:, 'rho_v']\n",
    "fy = dataset.loc[:, 'fy']\n",
    "fyv = dataset.loc[:, 'fyv']\n",
    "s = dataset.loc[:, 's']\n",
    "lambda_s = dataset.loc[:, 'lambda_s']\n",
    "eta_l = dataset.loc[:, 'eta_l']\n",
    "eta_w = dataset.loc[:, 'eta_w']\n",
    "h0 = dataset.loc[:, 'h0']"
   ]
  },
  {
   "cell_type": "code",
   "execution_count": 437,
   "metadata": {},
   "outputs": [
    {
     "name": "stdout",
     "output_type": "stream",
     "text": [
      "(158, 6)\n"
     ]
    }
   ],
   "source": [
    "# constructing 6 new normalized dimensionless input variables\n",
    "X = np.zeros(shape=(158,6))\n",
    "X[:, 0] = lambda_s\n",
    "X[:, 1] = h0/b\n",
    "X[:, 2] = rho_l * fy / fc\n",
    "X[:, 3] = rho_v * fyv / fc\n",
    "X[:, 4] = eta_l\n",
    "X[:, 5] = eta_w\n",
    "\n",
    "print(X.shape)"
   ]
  },
  {
   "cell_type": "code",
   "execution_count": 438,
   "metadata": {},
   "outputs": [
    {
     "name": "stdout",
     "output_type": "stream",
     "text": [
      "(158,)\n"
     ]
    }
   ],
   "source": [
    "# defining the output, i.e., the shear strength of the corroded beam\n",
    "y = dataset.loc [:, 'y']\n",
    "\n",
    "print(y.shape)"
   ]
  },
  {
   "cell_type": "code",
   "execution_count": 439,
   "metadata": {},
   "outputs": [],
   "source": [
    "# normalizing the whole data sets\n",
    "from sklearn.preprocessing import StandardScaler\n",
    "\n",
    "scaler = StandardScaler()\n",
    "scaler.fit(X)\n",
    "X = scaler.transform(X)"
   ]
  },
  {
   "cell_type": "code",
   "execution_count": 440,
   "metadata": {},
   "outputs": [],
   "source": [
    "# randomly spliting the database into training-testing sets as 70%-30% \n",
    "from sklearn.model_selection import train_test_split\n",
    "\n",
    "X_train, X_test, y_train, y_test = train_test_split(X, y, test_size=0.30, random_state=5)"
   ]
  },
  {
   "cell_type": "code",
   "execution_count": 441,
   "metadata": {},
   "outputs": [
    {
     "name": "stdout",
     "output_type": "stream",
     "text": [
      "10-fold mean RMSE: 22.556864197388556\n"
     ]
    }
   ],
   "source": [
    "# building the machine learnning model using GBRT and evaluating it through 10-fold CV\n",
    "from sklearn.ensemble import GradientBoostingRegressor\n",
    "from sklearn.model_selection import cross_val_predict\n",
    "from sklearn.model_selection import cross_val_score\n",
    "\n",
    "regr_1 = GradientBoostingRegressor(n_estimators=200, learning_rate=0.05, max_depth=2, max_leaf_nodes=5, min_samples_leaf=1, min_samples_split=2, random_state=0, loss='ls')\n",
    "\n",
    "scores = cross_val_score (regr_1, X_train, y_train, cv=10, scoring='neg_mean_squared_error', n_jobs = -1)\n",
    "print('10-fold mean RMSE:', np.mean(np.sqrt( -scores)))"
   ]
  },
  {
   "cell_type": "code",
   "execution_count": 442,
   "metadata": {},
   "outputs": [
    {
     "name": "stdout",
     "output_type": "stream",
     "text": [
      "GBRT Training R2: 0.9864231483338094 RMSE: 11.08290480400761 MAE: 8.152859603729743\n",
      "GBRT Testing R2: 0.9553986369604238 RMSE: 19.191396252694407 MAE: 12.840083358363614\n"
     ]
    }
   ],
   "source": [
    "# training the model\n",
    "from sklearn.metrics import r2_score\n",
    "from sklearn.metrics import mean_squared_error\n",
    "from sklearn.metrics import mean_absolute_error \n",
    "\n",
    "regr_1.fit(X_train, y_train)\n",
    "\n",
    "# predicting the results\n",
    "Z1 = regr_1.predict(X_train)\n",
    "Z2 = regr_1.predict(X_test)\n",
    "\n",
    "print(\"GBRT Training R2:\", r2_score(y_train, Z1), \"RMSE:\", np.sqrt(mean_squared_error(y_train, Z1)), \"MAE:\", mean_absolute_error(y_train, Z1))\n",
    "print(\"GBRT Testing R2:\", r2_score(y_test, Z2), \"RMSE:\", np.sqrt(mean_squared_error(y_test, Z2)), \"MAE:\", mean_absolute_error(y_test, Z2))"
   ]
  },
  {
   "cell_type": "code",
   "execution_count": 443,
   "metadata": {
    "scrolled": true
   },
   "outputs": [
    {
     "data": {
      "image/png": "[encoded data removed]",
      "text/plain": [
       "<Figure size 432x288 with 1 Axes>"
      ]
     },
     "metadata": {
      "needs_background": "light"
     },
     "output_type": "display_data"
    }
   ],
   "source": [
    "# plotting the scatter for the training and testing sets\n",
    "import matplotlib.pyplot as plt\n",
    "\n",
    "xx = np.linspace(0, 600, 100)\n",
    "yy = xx\n",
    "\n",
    "plt.figure()\n",
    "plt.plot(xx, yy, c='k', linewidth=2)\n",
    "plt.scatter(y_train, Z1, marker='s')\n",
    "plt.scatter(y_test, Z2, marker='o')\n",
    "\n",
    "plt.grid()\n",
    "plt.legend(['y=x', 'Training set', 'Testing set'], loc = 'upper left')\n",
    "plt.tick_params (axis = 'both', which = 'major')\n",
    "plt.axis('tight')\n",
    "plt.xlabel('Tested shear strength (kN)')\n",
    "plt.ylabel('Predicted shear strength (kN)')\n",
    "plt.xlim([0, 600])\n",
    "plt.ylim([0, 600])\n",
    "\n",
    "plt.tight_layout()"
   ]
  },
  {
   "cell_type": "code",
   "execution_count": 444,
   "metadata": {},
   "outputs": [],
   "source": [
    "# selecting a typical example beam (A1 by Xu and Niu) in 0-100 years time\n",
    "T = np.arange(0, 110, 10, dtype = float)\n",
    "\n",
    "fc = 30           # concrete properties\n",
    "eps0 = 0.002\n",
    "ft = 2\n",
    "\n",
    "fy = 400          # steel properties\n",
    "fu = 650\n",
    "ff = 200\n",
    "epsy = 0.002\n",
    "epsu = 0.12\n",
    "epsf = 0.16\n",
    "\n",
    "b0 = 500          # geometric properties, beam width\n",
    "D0 = 6            # the diameter of reinforcement\n",
    "PI = 3.1415926\n",
    "As0 = PI * D0 ** 2 / 4\n",
    "\n",
    "cover = 30        # concrete cover\n",
    "n = 4             # number of reinforcement \n",
    "psc = 8 ** 2 * PI / 4 * 1260 / ((190 * 440) * 200) # ratio of the volume of corroded transverse reinforcement"
   ]
  },
  {
   "cell_type": "code",
   "execution_count": 445,
   "metadata": {},
   "outputs": [],
   "source": [
    "# calculating the time begin to corrosion\n",
    "from scipy.special import erfinv\n",
    "import math\n",
    "\n",
    "kt = 0.832\n",
    "ke = 0.676\n",
    "kc = 1.0\n",
    "d0 = 473\n",
    "t0 = 0.0767\n",
    "cr = 0.6     \n",
    "cs = 1.283\n",
    "age_n = 0.362\n",
    "\n",
    "Tcorr = (cover ** 2 / (4 * ke * kt * kc * d0 * t0 ** age_n) * erfinv((1 - cr / cs)) ** (-2)) ** (1 / (1 - age_n))\n",
    "temp = math.ceil(Tcorr / 10)\n",
    "T = np.insert(T, temp, Tcorr)\n",
    "ratio_wc = 0.5"
   ]
  },
  {
   "cell_type": "code",
   "execution_count": 446,
   "metadata": {},
   "outputs": [],
   "source": [
    "# calculating corrosion rate, depth and degree of the beam\n",
    "r_cr = np.zeros(T.shape, dtype = float, order = 'C')\n",
    "e_cr = np.zeros(T.shape, dtype = float, order = 'C')\n",
    "eta_nw = np.zeros(T.shape, dtype = float, order = 'C')\n",
    "for i in range(T.size):\n",
    "\tif T[i] <= Tcorr:\n",
    "\t\tr_cr[i] = 0\n",
    "\t\te_cr[i] = 0\n",
    "\t\teta_nw[i] = 0\n",
    "\telse:\n",
    "\t\tr_cr[i] = 32.13 * (1 - ratio_wc) ** (-1.64) * (T[i] - Tcorr) ** (-0.29) / cover\n",
    "\t\te_cr[i] = 0.5254 * (1 - ratio_wc) ** (-1.64) * (T[i] - Tcorr) ** 0.71 / cover\n",
    "\t\teta_nw[i] = (D0 ** 2 - (D0 - 2 * e_cr[i]) ** 2) / D0 ** 2"
   ]
  },
  {
   "cell_type": "code",
   "execution_count": 447,
   "metadata": {},
   "outputs": [
    {
     "data": {
      "image/png": "[encoded data removed]",
      "text/plain": [
       "<Figure size 432x288 with 1 Axes>"
      ]
     },
     "metadata": {
      "needs_background": "light"
     },
     "output_type": "display_data"
    }
   ],
   "source": [
    "# plotting corrosion rate\n",
    "plt.xlabel(\"T (year)\") \n",
    "plt.ylabel(\"$r_{cr}$\") \n",
    "plt.plot(T, r_cr, '-o')\n",
    "\n",
    "plt.grid()\n",
    "plt.axis('tight')\n",
    "plt.xlim([0, 105])\n",
    "plt.ylim([-0.2, 2.5])\n",
    "\n",
    "plt.tight_layout()"
   ]
  },
  {
   "cell_type": "code",
   "execution_count": 448,
   "metadata": {},
   "outputs": [
    {
     "data": {
      "image/png": "[encoded data removed]",
      "text/plain": [
       "<Figure size 432x288 with 1 Axes>"
      ]
     },
     "metadata": {
      "needs_background": "light"
     },
     "output_type": "display_data"
    }
   ],
   "source": [
    "# plotting corrosion depth\n",
    "plt.xlabel(\"T (year)\") \n",
    "plt.ylabel(\"$e_{cr}$\") \n",
    "plt.plot(T, e_cr, '-o') \n",
    "\n",
    "plt.grid()\n",
    "plt.axis('tight')\n",
    "plt.xlim([0, 105])\n",
    "plt.ylim([-0.1, 1.4])\n",
    "\n",
    "plt.tight_layout()"
   ]
  },
  {
   "cell_type": "code",
   "execution_count": 449,
   "metadata": {
    "scrolled": true
   },
   "outputs": [
    {
     "data": {
      "image/png": "[encoded data removed]",
      "text/plain": [
       "<Figure size 432x288 with 1 Axes>"
      ]
     },
     "metadata": {
      "needs_background": "light"
     },
     "output_type": "display_data"
    }
   ],
   "source": [
    "# plotting corrosion degree\n",
    "plt.xlabel(\"T (year)\") \n",
    "plt.ylabel(\"$eta_{w}$\") \n",
    "plt.plot(T, eta_nw, '-o') \n",
    "\n",
    "plt.grid()\n",
    "plt.axis('tight')\n",
    "plt.xlim([0, 105])\n",
    "plt.ylim([-0.1, 0.8])\n",
    "\n",
    "plt.tight_layout()"
   ]
  },
  {
   "cell_type": "code",
   "execution_count": 453,
   "metadata": {},
   "outputs": [
    {
     "name": "stdout",
     "output_type": "stream",
     "text": [
      "0 0.0\n",
      "1 0.0\n",
      "2 0.0\n",
      "3 0.0\n",
      "4 8.374631590454346\n",
      "5 21.583120715619973\n",
      "6 31.160225035254136\n",
      "7 39.06311247196651\n",
      "8 45.87406854598577\n",
      "9 51.87490580032029\n",
      "10 57.2312526113455\n",
      "11 62.051811522232704\n",
      "(12,)\n",
      "[117.10733504 117.10733504 117.10733504 117.10733504 116.98901643\n",
      " 116.89078029 111.73695427 101.76781073 100.59171559  84.52809781\n",
      "  76.00565193  76.00565193]\n"
     ]
    }
   ],
   "source": [
    "# calculating the time-dependent shear strength of the beam by GBRT model\n",
    "V_GBRT = np.zeros(T.shape, dtype = float, order = 'C')\n",
    "for i in range(T.size):\n",
    "\tprint(i, eta_nw[i] * 100)\n",
    "\tX = scaler.inverse_transform(X)\n",
    "\tX[125, 5] = eta_nw[i] * 100\n",
    "\tX = scaler.transform(X)\n",
    "\ta = regr_1.predict(X)\n",
    "\tV_GBRT[i] = a [125]\n",
    "\n",
    "print(T.shape)\n",
    "print(V_GBRT)"
   ]
  },
  {
   "cell_type": "code",
   "execution_count": 454,
   "metadata": {},
   "outputs": [
    {
     "data": {
      "image/png": "[encoded data removed]",
      "text/plain": [
       "<Figure size 432x288 with 1 Axes>"
      ]
     },
     "metadata": {
      "needs_background": "light"
     },
     "output_type": "display_data"
    }
   ],
   "source": [
    "# plotting the time-dependent shear strength of the beam\n",
    "plt.xlabel(\"T (year)\") \n",
    "plt.ylabel('$V_{u,pred}$ (kN)')\n",
    "plt.plot(T, V_GBRT, '-o')\n",
    "\n",
    "plt.grid()\n",
    "plt.axis('tight')\n",
    "plt.xlim([0, 105])\n",
    "plt.ylim([70, 120])\n",
    "\n",
    "plt.tight_layout()"
   ]
  },
  {
   "cell_type": "code",
   "execution_count": null,
   "metadata": {},
   "outputs": [],
   "source": []
  },
  {
   "cell_type": "code",
   "execution_count": null,
   "metadata": {},
   "outputs": [],
   "source": []
  }
 ],
 "metadata": {
  "kernelspec": {
   "display_name": "Python 3",
   "language": "python",
   "name": "python3"
  },
  "language_info": {
   "codemirror_mode": {
    "name": "ipython",
    "version": 3
   },
   "file_extension": ".py",
   "mimetype": "text/x-python",
   "name": "python",
   "nbconvert_exporter": "python",
   "pygments_lexer": "ipython3",
   "version": "3.8.6"
  }
 },
 "nbformat": 4,
 "nbformat_minor": 4
}
